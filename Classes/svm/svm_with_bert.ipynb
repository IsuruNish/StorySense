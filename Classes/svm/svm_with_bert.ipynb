{
 "cells": [
  {
   "cell_type": "code",
   "execution_count": null,
   "metadata": {},
   "outputs": [],
   "source": [
    "import pandas as pd\n",
    "import torch\n",
    "from sklearn.model_selection import train_test_split\n",
    "from sklearn.svm import SVC\n",
    "from sklearn.metrics import mean_absolute_error, median_absolute_error, accuracy_score, confusion_matrix\n",
    "from transformers import BertTokenizer\n",
    "from sklearn.preprocessing import StandardScaler"
   ]
  },
  {
   "cell_type": "code",
   "execution_count": null,
   "metadata": {},
   "outputs": [],
   "source": [
    "\n",
    "# Load the dataset\n",
    "dataset = pd.read_csv(\"./zzzzold/zzzz1.csv\")\n",
    "dataset = dataset[dataset[\"storypoint\"] != 13]\n",
    "dataset = dataset.dropna()\n",
    "\n",
    "# Split the dataset into training and testing sets\n",
    "train_data, test_data = train_test_split(dataset, test_size=0.2, random_state=42)\n",
    "\n",
    "# BERT Tokenizer\n",
    "tokenizer = BertTokenizer.from_pretrained('bert-base-uncased')\n",
    "\n",
    "# Tokenize and pad the input data\n",
    "def tokenize_data(data, max_length=512):\n",
    "    input_ids = []\n",
    "    attention_masks = []\n",
    "\n",
    "    for idx, row in data.iterrows():\n",
    "        text = row['title']+ ' ' + row['description']\n",
    "        encoded_data = tokenizer.encode_plus(\n",
    "            text,\n",
    "            add_special_tokens=True,\n",
    "            max_length=max_length,\n",
    "            padding='max_length',\n",
    "            truncation=True,\n",
    "            return_attention_mask=True,\n",
    "            return_tensors='pt'\n",
    "        )\n",
    "\n",
    "        input_ids.append(encoded_data['input_ids'])\n",
    "        attention_masks.append(encoded_data['attention_mask'])\n",
    "\n",
    "    input_ids = torch.cat(input_ids, dim=0)\n",
    "    attention_masks = torch.cat(attention_masks, dim=0)\n",
    "\n",
    "    return input_ids, attention_masks"
   ]
  },
  {
   "cell_type": "code",
   "execution_count": null,
   "metadata": {},
   "outputs": [],
   "source": [
    "# Get tokenized training and testing data\n",
    "train_input_ids, train_attention_masks = tokenize_data(train_data)\n",
    "test_input_ids, test_attention_masks = tokenize_data(test_data)\n",
    "\n",
    "# Convert storypoints to numpy array\n",
    "\n",
    "storypoint_mapping = {\n",
    "    1: 0,\n",
    "    2: 1,\n",
    "    3: 2,\n",
    "    5: 3,\n",
    "    8: 4\n",
    "}\n",
    "\n",
    "train_data['storypoint'] = train_data['storypoint'].map(storypoint_mapping)\n",
    "test_data['storypoint'] = test_data['storypoint'].map(storypoint_mapping)\n",
    "\n",
    "train_labels = train_data['storypoint'].to_numpy()\n",
    "test_labels = test_data['storypoint'].to_numpy()"
   ]
  },
  {
   "cell_type": "code",
   "execution_count": null,
   "metadata": {},
   "outputs": [],
   "source": [
    "# Standardize input data\n",
    "scaler = StandardScaler()\n",
    "train_input_ids = scaler.fit_transform(train_input_ids)\n",
    "test_input_ids = scaler.transform(test_input_ids)\n",
    "\n",
    "# Train the SVM model\n",
    "svm_model = SVC(kernel='rbf', C=5000, gamma=1)\n",
    "\n",
    "svm_model.fit(train_input_ids, train_labels)\n",
    "test_predictions = svm_model.predict(test_input_ids)"
   ]
  },
  {
   "cell_type": "code",
   "execution_count": null,
   "metadata": {},
   "outputs": [],
   "source": [
    "# Calculate evaluation metrics\n",
    "mae = mean_absolute_error(test_labels, test_predictions)\n",
    "mdae = median_absolute_error(test_labels, test_predictions)\n",
    "accuracy = accuracy_score(test_labels, test_predictions)\n",
    "conf_matrix = confusion_matrix(test_labels, test_predictions)\n",
    "\n",
    "# Display the results\n",
    "print(f'Test MAE: {mae}')\n",
    "print(f'Test MdAE: {mdae}')\n",
    "print(f'Test Overall Accuracy: {accuracy}')\n",
    "\n",
    "# Calculate class-wise accuracy\n",
    "class_wise_accuracy = {}\n",
    "for i in range(5):\n",
    "    correct_predictions = conf_matrix[i, i]\n",
    "    total_samples = sum(conf_matrix[i, :])\n",
    "    class_wise_accuracy[i] = correct_predictions / total_samples\n",
    "\n",
    "print('Test Class-wise Accuracy:')\n",
    "for key, value in class_wise_accuracy.items():\n",
    "    print(f'Class {key}: {value}')\n",
    "\n",
    "print(f'Confusion Matrix:\\n{conf_matrix}')"
   ]
  }
 ],
 "metadata": {
  "language_info": {
   "name": "python"
  }
 },
 "nbformat": 4,
 "nbformat_minor": 2
}
